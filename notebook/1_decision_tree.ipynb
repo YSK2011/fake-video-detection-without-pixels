{
 "cells": [
  {
   "cell_type": "markdown",
   "metadata": {},
   "source": [
    "## Imports and Setup"
   ]
  },
  {
   "cell_type": "code",
   "execution_count": 1,
   "metadata": {},
   "outputs": [],
   "source": [
    "%load_ext autoreload\n",
    "%autoreload 2\n",
    "import os\n",
    "import pandas as pd\n",
    "import sklearn\n",
    "import numpy as np\n",
    "from pathlib import Path\n",
    "import matplotlib.pyplot as plt\n",
    "import seaborn as sns\n",
    "%aimport mfc_video_utils\n",
    "from mfc_video_utils import MfcVideoProcessor, BasicTransformer, compute_roc, save_object, load_object, grid_search_forest, grid_search_svm\n",
    "\n",
    "pd.options.display.max_columns = 500\n",
    "pd.options.display.max_rows = 2000\n",
    "sns.set(rc={\"figure.figsize\": (12, 8)})\n",
    "%matplotlib inline\n",
    "%config InlineBackend.figure_format='retina'"
   ]
  },
  {
   "cell_type": "markdown",
   "metadata": {},
   "source": [
    "## Load data"
   ]
  },
  {
   "cell_type": "code",
   "execution_count": 2,
   "metadata": {},
   "outputs": [],
   "source": [
    "at_polimi = False\n",
    "if at_polimi:\n",
    "    datasets_location = Path(\"/nas/public/dataset/medifor/\")\n",
    "else:\n",
    "    datasets_location = Path(\"/data1/dgueraco/datasets/\")"
   ]
  },
  {
   "cell_type": "code",
   "execution_count": 3,
   "metadata": {},
   "outputs": [],
   "source": [
    "# datasets = [nc2017_dev, mfc18_dev1, mfc18_dev2, mfc18_eval, mfc18_gan, mfc19_val]\n",
    "if os.path.isfile(\"datasets.pkl\"):\n",
    "    nc2017_dev, mfc18_dev1, mfc18_dev2, mfc18_eval, mfc18_gan, mfc19_val = load_object(\"datasets.pkl\")\n",
    "else:\n",
    "    nc2017_dev = MfcVideoProcessor(\"nc2017_dev\", datasets_location / \"NC2017_Dev_Ver1\", ref_avail=True)     ## nc2017 - dev (training)\n",
    "    mfc18_dev1 = MfcVideoProcessor(\"mfc18_dev1\", datasets_location / \"MFC18_Dev1_Video_Ver2\", ref_avail=True) ## mfc18 - dev1 (training)\n",
    "    mfc18_dev2 = MfcVideoProcessor(\"mfc18_dev2\",  datasets_location / \"MFC18_Dev2_Video_Ver3\", ref_avail=True) ## mfc18 - dev2 (training)\n",
    "    mfc18_eval = MfcVideoProcessor(\"mfc18_eval\", datasets_location / \"MFC18_EvalPart1_Video_Ver1\", ref_avail=True, ref_folder=True) ## mfc18 - eval (training?)\n",
    "    mfc18_gan = MfcVideoProcessor(\"mfc18_gan\", datasets_location / \"MFC18_Eval_GAN_Video_Ver3\", ref_avail=True, ref_folder=True) # mfc18 - gan (training?)\n",
    "    mfc19_val = MfcVideoProcessor(\"mfc19_val\", datasets_location /  \"MFC19_Video_Validation_Ver1\", ref_avail=True) # mfc19 - val (test)\n",
    "    datasets = [nc2017_dev, mfc18_dev1, mfc18_dev2, mfc18_eval, mfc18_gan, mfc19_val]\n",
    "    save_object(datasets, \"datasets.pkl\")    "
   ]
  },
  {
   "cell_type": "markdown",
   "metadata": {},
   "source": [
    "## SkLearn Magic"
   ]
  },
  {
   "cell_type": "markdown",
   "metadata": {},
   "source": [
    "### References:\n",
    "1. https://ramhiser.com/post/2018-04-16-building-scikit-learn-pipeline-with-pandas-dataframe/\n",
    "2. https://medium.com/dunder-data/from-pandas-to-scikit-learn-a-new-exciting-workflow-e88e2271ef62\n",
    "3. https://towardsdatascience.com/fine-tuning-a-classifier-in-scikit-learn-66e048c21e65\n",
    "4. http://blog.kaggle.com/2016/07/21/approaching-almost-any-machine-learning-problem-abhishek-thakur/\n",
    "5. https://ramhiser.com/post/2018-04-16-building-scikit-learn-pipeline-with-pandas-dataframe/"
   ]
  },
  {
   "cell_type": "code",
   "execution_count": 4,
   "metadata": {},
   "outputs": [],
   "source": [
    "from sklearn.pipeline import Pipeline\n",
    "from sklearn.tree import DecisionTreeClassifier\n",
    "from sklearn.ensemble import RandomForestClassifier, VotingClassifier\n",
    "from sklearn.svm import SVC\n",
    "from sklearn.model_selection import StratifiedKFold, cross_val_score, GridSearchCV, train_test_split\n",
    "from sklearn.metrics import roc_curve, precision_recall_curve, auc, make_scorer, roc_auc_score, recall_score, accuracy_score, precision_score, f1_score, confusion_matrix\n",
    "import random\n",
    "import warnings\n",
    "warnings.filterwarnings('ignore')\n",
    "random_seed = 123\n",
    "np.random.seed(random_seed)\n",
    "random.seed(random_seed)"
   ]
  },
  {
   "cell_type": "code",
   "execution_count": 5,
   "metadata": {},
   "outputs": [],
   "source": [
    "def test_datasets(pipe):\n",
    "    l = []\n",
    "    datasets = [nc2017_dev, mfc18_dev1, mfc18_dev2, mfc18_gan, mfc18_eval, mfc19_val]\n",
    "    for dataset in datasets:\n",
    "        l.append(compute_roc(dataset.ffprobe_df, dataset.labels, pipe, title=dataset.name, plot=False))\n",
    "        print(dataset.name+':',l[-1])\n",
    "    print('Average ROC AUC:', np.mean(l))"
   ]
  },
  {
   "cell_type": "markdown",
   "metadata": {},
   "source": [
    "#### Experiments 08/03/19"
   ]
  },
  {
   "cell_type": "markdown",
   "metadata": {},
   "source": [
    "#### Fair setup\n",
    "1. Train: NC2017_DEV + MFC18_DEV1 + MFC18_DEV2 => Splits and select best\n",
    "2. Test: MFC18_EVAL + MFC18_GAN + MFC19_EVAL"
   ]
  },
  {
   "cell_type": "markdown",
   "metadata": {},
   "source": [
    "##### Conclusions:\n",
    "MFC18_GAN videos are not properly detected, probably indicating that they are comming from a difference source"
   ]
  },
  {
   "cell_type": "code",
   "execution_count": 6,
   "metadata": {},
   "outputs": [],
   "source": [
    "train_vids = pd.concat([nc2017_dev.ffprobe_df, mfc18_dev1.ffprobe_df, mfc18_dev2.ffprobe_df], sort=False)\n",
    "train_labels = nc2017_dev.labels + mfc18_dev1.labels + mfc18_dev2.labels\n",
    "test_vids = pd.concat([mfc18_eval.ffprobe_df, mfc18_gan.ffprobe_df, mfc19_val.ffprobe_df], sort=False)\n",
    "test_labels = mfc18_eval.labels + mfc18_gan.labels + mfc19_val.labels"
   ]
  },
  {
   "cell_type": "code",
   "execution_count": 7,
   "metadata": {},
   "outputs": [],
   "source": [
    "forest = RandomForestClassifier(max_depth=15, max_features='sqrt', min_samples_leaf=1,\n",
    "                                 min_samples_split=2, n_estimators=120, random_state=random_seed,n_jobs=-1)\n",
    "svm = SVC(C=150, class_weight='balanced', gamma='scale', random_state=random_seed, probability=True)"
   ]
  },
  {
   "cell_type": "code",
   "execution_count": 8,
   "metadata": {},
   "outputs": [],
   "source": [
    "bt = mfc_video_utils.BasicTransformer(cat_threshold=1, num_strategy='mean', return_df=False)"
   ]
  },
  {
   "cell_type": "code",
   "execution_count": 9,
   "metadata": {},
   "outputs": [],
   "source": [
    "ml_pipe_voting = Pipeline([('transformer', bt), \n",
    "                           ('ensembler', VotingClassifier(estimators=[('fr', forest), ('s', svm)], voting='soft', n_jobs=-1))])"
   ]
  },
  {
   "cell_type": "code",
   "execution_count": 10,
   "metadata": {},
   "outputs": [],
   "source": [
    "ml_pipe_forest = Pipeline([('transformer', bt), \n",
    "                           ('forest', RandomForestClassifier(max_depth=15, max_features='sqrt', min_samples_leaf=1,\n",
    "                                                             min_samples_split=2, n_estimators=120, random_state=random_seed, n_jobs=-1))])"
   ]
  },
  {
   "cell_type": "code",
   "execution_count": 11,
   "metadata": {},
   "outputs": [],
   "source": [
    "ml_pipe_svm = Pipeline([('transformer', bt), \n",
    "                        ('SVM', SVC(C=150, class_weight='balanced', gamma='scale', random_state=random_seed, probability=True))])"
   ]
  },
  {
   "cell_type": "code",
   "execution_count": 12,
   "metadata": {},
   "outputs": [
    {
     "data": {
      "text/plain": [
       "Pipeline(memory=None,\n",
       "     steps=[('transformer', BasicTransformer(cat_threshold=1, num_strategy='mean', return_df=False)), ('ensembler', VotingClassifier(estimators=[('fr', RandomForestClassifier(bootstrap=True, class_weight=None, criterion='gini',\n",
       "            max_depth=15, max_features='sqrt', max_leaf_nodes=None,\n",
       "         ...=0.001, verbose=False))],\n",
       "         flatten_transform=None, n_jobs=-1, voting='soft', weights=None))])"
      ]
     },
     "execution_count": 12,
     "metadata": {},
     "output_type": "execute_result"
    }
   ],
   "source": [
    "ml_pipe_voting.fit(train_vids, train_labels)"
   ]
  },
  {
   "cell_type": "code",
   "execution_count": 13,
   "metadata": {},
   "outputs": [
    {
     "data": {
      "text/plain": [
       "Pipeline(memory=None,\n",
       "     steps=[('transformer', BasicTransformer(cat_threshold=1, num_strategy='mean', return_df=False)), ('forest', RandomForestClassifier(bootstrap=True, class_weight=None, criterion='gini',\n",
       "            max_depth=15, max_features='sqrt', max_leaf_nodes=None,\n",
       "            min_impurity_decrease=0.0, min_impur...mators=120, n_jobs=-1,\n",
       "            oob_score=False, random_state=123, verbose=0, warm_start=False))])"
      ]
     },
     "execution_count": 13,
     "metadata": {},
     "output_type": "execute_result"
    }
   ],
   "source": [
    "ml_pipe_forest.fit(train_vids, train_labels)"
   ]
  },
  {
   "cell_type": "code",
   "execution_count": 14,
   "metadata": {},
   "outputs": [
    {
     "data": {
      "text/plain": [
       "Pipeline(memory=None,\n",
       "     steps=[('transformer', BasicTransformer(cat_threshold=1, num_strategy='mean', return_df=False)), ('SVM', SVC(C=150, cache_size=200, class_weight='balanced', coef0=0.0,\n",
       "  decision_function_shape='ovr', degree=3, gamma='scale', kernel='rbf',\n",
       "  max_iter=-1, probability=True, random_state=123, shrinking=True,\n",
       "  tol=0.001, verbose=False))])"
      ]
     },
     "execution_count": 14,
     "metadata": {},
     "output_type": "execute_result"
    }
   ],
   "source": [
    "ml_pipe_svm.fit(train_vids, train_labels)"
   ]
  },
  {
   "cell_type": "code",
   "execution_count": 15,
   "metadata": {},
   "outputs": [
    {
     "name": "stdout",
     "output_type": "stream",
     "text": [
      "nc2017_dev: 1.0\n",
      "mfc18_dev1: 1.0\n",
      "mfc18_dev2: 1.0\n",
      "mfc18_gan: 0.7852941176470588\n",
      "mfc18_eval: 0.9947524739577679\n",
      "mfc19_val: 0.9967948717948718\n",
      "Average ROC AUC: 0.9628069105666164\n"
     ]
    }
   ],
   "source": [
    "test_datasets(ml_pipe_forest)"
   ]
  },
  {
   "cell_type": "code",
   "execution_count": 16,
   "metadata": {},
   "outputs": [
    {
     "name": "stdout",
     "output_type": "stream",
     "text": [
      "nc2017_dev: 1.0\n",
      "mfc18_dev1: 1.0\n",
      "mfc18_dev2: 1.0\n",
      "mfc18_gan: 0.8135294117647058\n",
      "mfc18_eval: 0.9978853577306024\n",
      "mfc19_val: 0.985576923076923\n",
      "Average ROC AUC: 0.966165282095372\n"
     ]
    }
   ],
   "source": [
    "test_datasets(ml_pipe_svm)"
   ]
  },
  {
   "cell_type": "code",
   "execution_count": 17,
   "metadata": {},
   "outputs": [
    {
     "name": "stdout",
     "output_type": "stream",
     "text": [
      "nc2017_dev: 1.0\n",
      "mfc18_dev1: 1.0\n",
      "mfc18_dev2: 1.0\n",
      "mfc18_gan: 0.8385294117647059\n",
      "mfc18_eval: 0.9974120599742075\n",
      "mfc19_val: 0.9919871794871795\n",
      "Average ROC AUC: 0.9713214418710154\n"
     ]
    }
   ],
   "source": [
    "test_datasets(ml_pipe_voting)"
   ]
  },
  {
   "cell_type": "code",
   "execution_count": 18,
   "metadata": {},
   "outputs": [],
   "source": [
    "save_object(ml_pipe_forest, 'best_forest_pipe_base.pkl')\n",
    "save_object(ml_pipe_svm, 'best_svm_pipe_base.pkl')\n",
    "save_object(ml_pipe_voting, 'best_voting_pipe_base.pkl')"
   ]
  },
  {
   "cell_type": "code",
   "execution_count": null,
   "metadata": {},
   "outputs": [],
   "source": [
    "gs_svm = grid_search_svm(train_vids, train_labels, test_vids, test_labels, ml_pipe_svm, StratifiedKFold(n_splits=10, shuffle=True))"
   ]
  },
  {
   "cell_type": "code",
   "execution_count": null,
   "metadata": {},
   "outputs": [],
   "source": [
    "gs_forest = grid_search_forest(train_vids, train_labels, test_vids, test_labels, ml_pipe_forest, StratifiedKFold(n_splits=10, shuffle=True))"
   ]
  },
  {
   "cell_type": "markdown",
   "metadata": {},
   "source": [
    "#### Fair + GAN setup\n",
    "1. Train: NC2017_DEV + MFC18_DEV1 + MFC18_DEV2 + MFC18_GAN => Splits and select best\n",
    "2. Test: MFC18_EVAL + MFC19_EVAL"
   ]
  },
  {
   "cell_type": "markdown",
   "metadata": {},
   "source": [
    "##### Conclusions:\n",
    "Our performance in MFC18_GAN is obviously better but we lose performance in MFC18_EVAL + MFC19_EVAL"
   ]
  },
  {
   "cell_type": "code",
   "execution_count": 19,
   "metadata": {},
   "outputs": [],
   "source": [
    "train_vids = pd.concat([nc2017_dev.ffprobe_df, mfc18_dev1.ffprobe_df, mfc18_dev2.ffprobe_df, mfc18_gan.ffprobe_df], sort=False)\n",
    "train_labels = nc2017_dev.labels + mfc18_dev1.labels + mfc18_dev2.labels + mfc18_gan.labels\n",
    "test_vids = pd.concat([mfc18_eval.ffprobe_df, mfc19_val.ffprobe_df], sort=False)\n",
    "test_labels = mfc18_eval.labels + mfc19_val.labels"
   ]
  },
  {
   "cell_type": "code",
   "execution_count": 20,
   "metadata": {},
   "outputs": [],
   "source": [
    "forest = RandomForestClassifier(max_depth=15, max_features='sqrt', min_samples_leaf=1,\n",
    "                                 min_samples_split=2, n_estimators=120, random_state=random_seed,n_jobs=-1)\n",
    "svm = SVC(C=150, class_weight='balanced', gamma='scale', random_state=random_seed, probability=True)"
   ]
  },
  {
   "cell_type": "code",
   "execution_count": 21,
   "metadata": {},
   "outputs": [],
   "source": [
    "bt = mfc_video_utils.BasicTransformer(cat_threshold=10, num_strategy='median', return_df=False)"
   ]
  },
  {
   "cell_type": "code",
   "execution_count": 22,
   "metadata": {},
   "outputs": [],
   "source": [
    "ml_pipe_voting = Pipeline([('transformer', bt), \n",
    "                           ('ensembler', VotingClassifier(estimators=[('fr', forest), ('s', svm)], voting='soft', n_jobs=-1))])"
   ]
  },
  {
   "cell_type": "code",
   "execution_count": 23,
   "metadata": {},
   "outputs": [],
   "source": [
    "ml_pipe_forest = Pipeline([('transformer', bt), \n",
    "                           ('forest', RandomForestClassifier(max_depth=15, max_features='sqrt', min_samples_leaf=1,\n",
    "                                                             min_samples_split=2, n_estimators=120, random_state=random_seed, n_jobs=-1))])"
   ]
  },
  {
   "cell_type": "code",
   "execution_count": 24,
   "metadata": {},
   "outputs": [],
   "source": [
    "ml_pipe_svm = Pipeline([('transformer', bt), \n",
    "                        ('SVM', SVC(C=150, class_weight='balanced', gamma='scale', random_state=random_seed, probability=True))])"
   ]
  },
  {
   "cell_type": "code",
   "execution_count": 25,
   "metadata": {},
   "outputs": [
    {
     "data": {
      "text/plain": [
       "Pipeline(memory=None,\n",
       "     steps=[('transformer', BasicTransformer(cat_threshold=10, num_strategy='median', return_df=False)), ('ensembler', VotingClassifier(estimators=[('fr', RandomForestClassifier(bootstrap=True, class_weight=None, criterion='gini',\n",
       "            max_depth=15, max_features='sqrt', max_leaf_nodes=None,\n",
       "      ...=0.001, verbose=False))],\n",
       "         flatten_transform=None, n_jobs=-1, voting='soft', weights=None))])"
      ]
     },
     "execution_count": 25,
     "metadata": {},
     "output_type": "execute_result"
    }
   ],
   "source": [
    "ml_pipe_voting.fit(train_vids, train_labels)"
   ]
  },
  {
   "cell_type": "code",
   "execution_count": 26,
   "metadata": {},
   "outputs": [
    {
     "data": {
      "text/plain": [
       "Pipeline(memory=None,\n",
       "     steps=[('transformer', BasicTransformer(cat_threshold=10, num_strategy='median', return_df=False)), ('forest', RandomForestClassifier(bootstrap=True, class_weight=None, criterion='gini',\n",
       "            max_depth=15, max_features='sqrt', max_leaf_nodes=None,\n",
       "            min_impurity_decrease=0.0, min_im...mators=120, n_jobs=-1,\n",
       "            oob_score=False, random_state=123, verbose=0, warm_start=False))])"
      ]
     },
     "execution_count": 26,
     "metadata": {},
     "output_type": "execute_result"
    }
   ],
   "source": [
    "ml_pipe_forest.fit(train_vids, train_labels)"
   ]
  },
  {
   "cell_type": "code",
   "execution_count": 27,
   "metadata": {},
   "outputs": [
    {
     "data": {
      "text/plain": [
       "Pipeline(memory=None,\n",
       "     steps=[('transformer', BasicTransformer(cat_threshold=10, num_strategy='median', return_df=False)), ('SVM', SVC(C=150, cache_size=200, class_weight='balanced', coef0=0.0,\n",
       "  decision_function_shape='ovr', degree=3, gamma='scale', kernel='rbf',\n",
       "  max_iter=-1, probability=True, random_state=123, shrinking=True,\n",
       "  tol=0.001, verbose=False))])"
      ]
     },
     "execution_count": 27,
     "metadata": {},
     "output_type": "execute_result"
    }
   ],
   "source": [
    "ml_pipe_svm.fit(train_vids, train_labels)"
   ]
  },
  {
   "cell_type": "code",
   "execution_count": 28,
   "metadata": {},
   "outputs": [
    {
     "name": "stdout",
     "output_type": "stream",
     "text": [
      "nc2017_dev: 1.0\n",
      "mfc18_dev1: 1.0\n",
      "mfc18_dev2: 1.0\n",
      "mfc18_gan: 1.0\n",
      "mfc18_eval: 0.9888449363653339\n",
      "mfc19_val: 0.9967948717948718\n",
      "Average ROC AUC: 0.9976066346933677\n"
     ]
    }
   ],
   "source": [
    "test_datasets(ml_pipe_forest)"
   ]
  },
  {
   "cell_type": "code",
   "execution_count": 29,
   "metadata": {},
   "outputs": [
    {
     "name": "stdout",
     "output_type": "stream",
     "text": [
      "nc2017_dev: 1.0\n",
      "mfc18_dev1: 1.0\n",
      "mfc18_dev2: 1.0\n",
      "mfc18_gan: 0.9832352941176471\n",
      "mfc18_eval: 0.9556229076114096\n",
      "mfc19_val: 0.8766025641025641\n",
      "Average ROC AUC: 0.9692434609719367\n"
     ]
    }
   ],
   "source": [
    "test_datasets(ml_pipe_svm)"
   ]
  },
  {
   "cell_type": "code",
   "execution_count": 30,
   "metadata": {},
   "outputs": [
    {
     "name": "stdout",
     "output_type": "stream",
     "text": [
      "nc2017_dev: 1.0\n",
      "mfc18_dev1: 1.0\n",
      "mfc18_dev2: 1.0\n",
      "mfc18_gan: 1.0\n",
      "mfc18_eval: 0.9947459606858909\n",
      "mfc19_val: 0.9967948717948718\n",
      "Average ROC AUC: 0.9985901387467937\n"
     ]
    }
   ],
   "source": [
    "test_datasets(ml_pipe_voting)"
   ]
  },
  {
   "cell_type": "code",
   "execution_count": 31,
   "metadata": {},
   "outputs": [],
   "source": [
    "save_object(ml_pipe_forest, 'best_forest_pipe_ganbase.pkl')\n",
    "save_object(ml_pipe_svm, 'best_svm_pipe_ganbase.pkl')\n",
    "save_object(ml_pipe_voting, 'best_voting_pipe_ganbase.pkl')"
   ]
  },
  {
   "cell_type": "code",
   "execution_count": null,
   "metadata": {},
   "outputs": [],
   "source": [
    "gs_forest = grid_search_forest(train_vids, train_labels, test_vids, test_labels, ml_pipe_forest, StratifiedKFold(n_splits=10, shuffle=True))"
   ]
  },
  {
   "cell_type": "code",
   "execution_count": null,
   "metadata": {},
   "outputs": [],
   "source": [
    "gs_svm_roc = grid_search_svm(train_vids, train_labels, test_vids, test_labels, ml_pipe_svm, StratifiedKFold(n_splits=10, shuffle=True), refit_score='roc_auc_score')"
   ]
  },
  {
   "cell_type": "markdown",
   "metadata": {},
   "source": [
    "#### Unfair setup\n",
    "1. Train: NC2017_DEV + MFC18_DEV1 + MFC18_DEV2 + MFC18_GAN + MFC18_EVAL + MFC19_EVAL => Splits and select best\n",
    "2. Test: MFC18_EVAL + MFC19_EVAL"
   ]
  },
  {
   "cell_type": "markdown",
   "metadata": {},
   "source": [
    "##### Conclusions:\n",
    "Our performance in MFC18_GAN is obviously better but we lose performance in MFC18_EVAL + MFC19_EVAL"
   ]
  },
  {
   "cell_type": "code",
   "execution_count": 32,
   "metadata": {},
   "outputs": [],
   "source": [
    "train_vids = pd.concat([nc2017_dev.ffprobe_df, mfc18_dev1.ffprobe_df, mfc18_dev2.ffprobe_df, mfc18_gan.ffprobe_df, mfc18_eval.ffprobe_df, mfc19_val.ffprobe_df], sort=False)\n",
    "train_labels = nc2017_dev.labels + mfc18_dev1.labels + mfc18_dev2.labels + mfc18_gan.labels + mfc18_eval.labels + mfc19_val.labels\n",
    "test_vids = pd.concat([mfc18_eval.ffprobe_df, mfc19_val.ffprobe_df], sort=False)\n",
    "test_labels = mfc18_eval.labels + mfc19_val.labels"
   ]
  },
  {
   "cell_type": "code",
   "execution_count": 33,
   "metadata": {},
   "outputs": [],
   "source": [
    "forest = RandomForestClassifier(max_depth=15, max_features='sqrt', min_samples_leaf=1,\n",
    "                                 min_samples_split=2, n_estimators=120, random_state=random_seed,n_jobs=-1)\n",
    "svm = SVC(C=150, class_weight='balanced', gamma='scale', random_state=random_seed, probability=True)"
   ]
  },
  {
   "cell_type": "code",
   "execution_count": 34,
   "metadata": {},
   "outputs": [],
   "source": [
    "bt = mfc_video_utils.BasicTransformer(cat_threshold=1, num_strategy='mean', return_df=False)"
   ]
  },
  {
   "cell_type": "code",
   "execution_count": 35,
   "metadata": {},
   "outputs": [],
   "source": [
    "ml_pipe_voting = Pipeline([('transformer', bt), \n",
    "                           ('ensembler', VotingClassifier(estimators=[('fr', forest), ('s', svm)], voting='soft', n_jobs=-1))])"
   ]
  },
  {
   "cell_type": "code",
   "execution_count": 36,
   "metadata": {},
   "outputs": [],
   "source": [
    "ml_pipe_forest = Pipeline([('transformer', bt), \n",
    "                           ('forest', RandomForestClassifier(max_depth=15, max_features='sqrt', min_samples_leaf=1,\n",
    "                                                             min_samples_split=2, n_estimators=120, random_state=random_seed, n_jobs=-1))])"
   ]
  },
  {
   "cell_type": "code",
   "execution_count": 37,
   "metadata": {},
   "outputs": [],
   "source": [
    "ml_pipe_svm = Pipeline([('transformer', bt), \n",
    "                        ('SVM', SVC(C=150, class_weight='balanced', gamma='scale', random_state=random_seed, probability=True))])"
   ]
  },
  {
   "cell_type": "code",
   "execution_count": 38,
   "metadata": {},
   "outputs": [
    {
     "data": {
      "text/plain": [
       "Pipeline(memory=None,\n",
       "     steps=[('transformer', BasicTransformer(cat_threshold=1, num_strategy='mean', return_df=False)), ('ensembler', VotingClassifier(estimators=[('fr', RandomForestClassifier(bootstrap=True, class_weight=None, criterion='gini',\n",
       "            max_depth=15, max_features='sqrt', max_leaf_nodes=None,\n",
       "         ...=0.001, verbose=False))],\n",
       "         flatten_transform=None, n_jobs=-1, voting='soft', weights=None))])"
      ]
     },
     "execution_count": 38,
     "metadata": {},
     "output_type": "execute_result"
    }
   ],
   "source": [
    "ml_pipe_voting.fit(train_vids, train_labels)"
   ]
  },
  {
   "cell_type": "code",
   "execution_count": 39,
   "metadata": {},
   "outputs": [
    {
     "data": {
      "text/plain": [
       "Pipeline(memory=None,\n",
       "     steps=[('transformer', BasicTransformer(cat_threshold=1, num_strategy='mean', return_df=False)), ('forest', RandomForestClassifier(bootstrap=True, class_weight=None, criterion='gini',\n",
       "            max_depth=15, max_features='sqrt', max_leaf_nodes=None,\n",
       "            min_impurity_decrease=0.0, min_impur...mators=120, n_jobs=-1,\n",
       "            oob_score=False, random_state=123, verbose=0, warm_start=False))])"
      ]
     },
     "execution_count": 39,
     "metadata": {},
     "output_type": "execute_result"
    }
   ],
   "source": [
    "ml_pipe_forest.fit(train_vids, train_labels)"
   ]
  },
  {
   "cell_type": "code",
   "execution_count": 40,
   "metadata": {},
   "outputs": [
    {
     "data": {
      "text/plain": [
       "Pipeline(memory=None,\n",
       "     steps=[('transformer', BasicTransformer(cat_threshold=1, num_strategy='mean', return_df=False)), ('SVM', SVC(C=150, cache_size=200, class_weight='balanced', coef0=0.0,\n",
       "  decision_function_shape='ovr', degree=3, gamma='scale', kernel='rbf',\n",
       "  max_iter=-1, probability=True, random_state=123, shrinking=True,\n",
       "  tol=0.001, verbose=False))])"
      ]
     },
     "execution_count": 40,
     "metadata": {},
     "output_type": "execute_result"
    }
   ],
   "source": [
    "ml_pipe_svm.fit(train_vids, train_labels)"
   ]
  },
  {
   "cell_type": "code",
   "execution_count": 41,
   "metadata": {},
   "outputs": [
    {
     "name": "stdout",
     "output_type": "stream",
     "text": [
      "nc2017_dev: 1.0\n",
      "mfc18_dev1: 1.0\n",
      "mfc18_dev2: 1.0\n",
      "mfc18_gan: 1.0\n",
      "mfc18_eval: 1.0\n",
      "mfc19_val: 1.0\n",
      "Average ROC AUC: 1.0\n"
     ]
    }
   ],
   "source": [
    "test_datasets(ml_pipe_forest)"
   ]
  },
  {
   "cell_type": "code",
   "execution_count": 42,
   "metadata": {},
   "outputs": [
    {
     "name": "stdout",
     "output_type": "stream",
     "text": [
      "nc2017_dev: 1.0\n",
      "mfc18_dev1: 1.0\n",
      "mfc18_dev2: 1.0\n",
      "mfc18_gan: 0.9997058823529412\n",
      "mfc18_eval: 1.0\n",
      "mfc19_val: 1.0\n",
      "Average ROC AUC: 0.9999509803921569\n"
     ]
    }
   ],
   "source": [
    "test_datasets(ml_pipe_svm)"
   ]
  },
  {
   "cell_type": "code",
   "execution_count": 43,
   "metadata": {},
   "outputs": [
    {
     "name": "stdout",
     "output_type": "stream",
     "text": [
      "nc2017_dev: 1.0\n",
      "mfc18_dev1: 1.0\n",
      "mfc18_dev2: 1.0\n",
      "mfc18_gan: 1.0\n",
      "mfc18_eval: 1.0\n",
      "mfc19_val: 1.0\n",
      "Average ROC AUC: 1.0\n"
     ]
    }
   ],
   "source": [
    "test_datasets(ml_pipe_voting)"
   ]
  },
  {
   "cell_type": "code",
   "execution_count": 44,
   "metadata": {},
   "outputs": [],
   "source": [
    "save_object(ml_pipe_forest, 'best_forest_pipe_full.pkl')\n",
    "save_object(ml_pipe_svm, 'best_svm_pipe_full.pkl')\n",
    "save_object(ml_pipe_voting, 'best_voting_pipe_full.pkl')"
   ]
  },
  {
   "cell_type": "code",
   "execution_count": null,
   "metadata": {},
   "outputs": [],
   "source": [
    "gs_svm = grid_search_svm(train_vids, train_labels, test_vids, test_labels, ml_pipe_svm, StratifiedKFold(n_splits=10, shuffle=True), refit_score='roc_auc_score')"
   ]
  },
  {
   "cell_type": "code",
   "execution_count": null,
   "metadata": {},
   "outputs": [],
   "source": [
    "gs_svm.best_estimator_.predict_proba(test_vids)[:,1]"
   ]
  },
  {
   "cell_type": "markdown",
   "metadata": {},
   "source": [
    "### Test Single Video Processor"
   ]
  },
  {
   "cell_type": "code",
   "execution_count": null,
   "metadata": {},
   "outputs": [],
   "source": [
    "voting_clf = load_object('best_voting_pipe_ganbase.pkl')"
   ]
  },
  {
   "cell_type": "code",
   "execution_count": null,
   "metadata": {},
   "outputs": [],
   "source": [
    "mfc19_processor = mfc_video_utils.MfcEvalVideoProcessor(voting_clf)"
   ]
  },
  {
   "cell_type": "code",
   "execution_count": null,
   "metadata": {},
   "outputs": [],
   "source": [
    "mfc19_val.csv"
   ]
  },
  {
   "cell_type": "code",
   "execution_count": null,
   "metadata": {},
   "outputs": [],
   "source": [
    "mfc19_processor(mfc19_val.get_video_path(13))"
   ]
  },
  {
   "cell_type": "markdown",
   "metadata": {},
   "source": [
    "### Old Experiments"
   ]
  },
  {
   "cell_type": "code",
   "execution_count": null,
   "metadata": {},
   "outputs": [],
   "source": [
    "top_k = 10\n",
    "basic_pipe.named_steps['bt'].get_feature_names()[np.argsort(-basic_pipe.named_steps['tree'].feature_importances_)][1:top_k]"
   ]
  }
 ],
 "metadata": {
  "kernelspec": {
   "display_name": "Python 3",
   "language": "python",
   "name": "python3"
  },
  "language_info": {
   "codemirror_mode": {
    "name": "ipython",
    "version": 3
   },
   "file_extension": ".py",
   "mimetype": "text/x-python",
   "name": "python",
   "nbconvert_exporter": "python",
   "pygments_lexer": "ipython3",
   "version": "3.7.2"
  }
 },
 "nbformat": 4,
 "nbformat_minor": 2
}
